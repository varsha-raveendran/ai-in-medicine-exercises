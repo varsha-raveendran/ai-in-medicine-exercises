{
  "cells": [
    {
      "cell_type": "markdown",
      "metadata": {
        "id": "view-in-github",
        "colab_type": "text"
      },
      "source": [
        "<a href=\"https://colab.research.google.com/github/varsha-raveendran/ai-in-medicine-exercises/blob/main/aim_graded_exercise1.ipynb\" target=\"_parent\"><img src=\"https://colab.research.google.com/assets/colab-badge.svg\" alt=\"Open In Colab\"/></a>"
      ]
    },
    {
      "cell_type": "markdown",
      "id": "26063107",
      "metadata": {
        "deletable": false,
        "editable": false,
        "id": "26063107"
      },
      "source": [
        "# AI in Medicine II – Graded Exercise on Time-to-event Analysis\n",
        "\n",
        "Implement the estimator of the survival function of the exponential distribution derived\n",
        "in Exercise 4 above. Use the breast cancer dataset from the hands-on exercise to compare\n",
        "the Kaplan-Meier and parametric estimator for women with entry diagnoses of AH,\n",
        "PDWA, and No PD as a function of years since biopsy. What does the graphic tell?\n",
        "Explain whether the exponential distribution is suitable for this data?"
      ]
    },
    {
      "cell_type": "markdown",
      "id": "7b2f420d",
      "metadata": {
        "deletable": false,
        "editable": false,
        "id": "7b2f420d"
      },
      "source": [
        "## Installing Requirements\n",
        "\n",
        "For the exercises, we will be relying on [scikit-survival](https://scikit-survival.readthedocs.io/), [pandas](https://pandas.pydata.org/), and [matplotlib](https://matplotlib.org/) to analyze time-to-event data. Please refer to their respective documentation for questions regarding their usage.\n",
        "\n",
        "You can install everything by executing the following cell:"
      ]
    },
    {
      "cell_type": "code",
      "execution_count": 31,
      "id": "5dabfde7",
      "metadata": {
        "colab": {
          "base_uri": "https://localhost:8080/"
        },
        "id": "5dabfde7",
        "outputId": "d1dab527-be43-4a00-c841-c9686d61d538"
      },
      "outputs": [
        {
          "output_type": "stream",
          "name": "stdout",
          "text": [
            "Requirement already satisfied: scikit-survival==0.17.2 in /usr/local/lib/python3.7/dist-packages (0.17.2)\n",
            "Requirement already satisfied: matplotlib in /usr/local/lib/python3.7/dist-packages (3.2.2)\n",
            "Requirement already satisfied: scipy!=1.3.0,>=1.0 in /usr/local/lib/python3.7/dist-packages (from scikit-survival==0.17.2) (1.4.1)\n",
            "Requirement already satisfied: joblib in /usr/local/lib/python3.7/dist-packages (from scikit-survival==0.17.2) (1.1.0)\n",
            "Requirement already satisfied: ecos in /usr/local/lib/python3.7/dist-packages (from scikit-survival==0.17.2) (2.0.10)\n",
            "Requirement already satisfied: numexpr in /usr/local/lib/python3.7/dist-packages (from scikit-survival==0.17.2) (2.8.1)\n",
            "Requirement already satisfied: pandas>=0.25 in /usr/local/lib/python3.7/dist-packages (from scikit-survival==0.17.2) (1.3.5)\n",
            "Requirement already satisfied: osqp!=0.6.0,!=0.6.1 in /usr/local/lib/python3.7/dist-packages (from scikit-survival==0.17.2) (0.6.2.post0)\n",
            "Requirement already satisfied: scikit-learn<1.1,>=1.0.0 in /usr/local/lib/python3.7/dist-packages (from scikit-survival==0.17.2) (1.0.2)\n",
            "Requirement already satisfied: numpy in /usr/local/lib/python3.7/dist-packages (from scikit-survival==0.17.2) (1.21.6)\n",
            "Requirement already satisfied: qdldl in /usr/local/lib/python3.7/dist-packages (from osqp!=0.6.0,!=0.6.1->scikit-survival==0.17.2) (0.1.5.post2)\n",
            "Requirement already satisfied: pytz>=2017.3 in /usr/local/lib/python3.7/dist-packages (from pandas>=0.25->scikit-survival==0.17.2) (2022.1)\n",
            "Requirement already satisfied: python-dateutil>=2.7.3 in /usr/local/lib/python3.7/dist-packages (from pandas>=0.25->scikit-survival==0.17.2) (2.8.2)\n",
            "Requirement already satisfied: six>=1.5 in /usr/local/lib/python3.7/dist-packages (from python-dateutil>=2.7.3->pandas>=0.25->scikit-survival==0.17.2) (1.15.0)\n",
            "Requirement already satisfied: threadpoolctl>=2.0.0 in /usr/local/lib/python3.7/dist-packages (from scikit-learn<1.1,>=1.0.0->scikit-survival==0.17.2) (3.1.0)\n",
            "Requirement already satisfied: pyparsing!=2.0.4,!=2.1.2,!=2.1.6,>=2.0.1 in /usr/local/lib/python3.7/dist-packages (from matplotlib) (3.0.8)\n",
            "Requirement already satisfied: cycler>=0.10 in /usr/local/lib/python3.7/dist-packages (from matplotlib) (0.11.0)\n",
            "Requirement already satisfied: kiwisolver>=1.0.1 in /usr/local/lib/python3.7/dist-packages (from matplotlib) (1.4.2)\n",
            "Requirement already satisfied: typing-extensions in /usr/local/lib/python3.7/dist-packages (from kiwisolver>=1.0.1->matplotlib) (4.2.0)\n",
            "Requirement already satisfied: packaging in /usr/local/lib/python3.7/dist-packages (from numexpr->scikit-survival==0.17.2) (21.3)\n"
          ]
        }
      ],
      "source": [
        "!pip install scikit-survival==0.17.2 matplotlib"
      ]
    },
    {
      "cell_type": "code",
      "execution_count": 32,
      "id": "596598de",
      "metadata": {
        "id": "596598de"
      },
      "outputs": [],
      "source": [
        "import matplotlib.pyplot as plt\n",
        "import numpy as np\n",
        "import pandas as pd\n",
        "\n",
        "from sksurv.util import Surv\n",
        "\n",
        "%matplotlib inline"
      ]
    },
    {
      "cell_type": "markdown",
      "id": "309ae4d7",
      "metadata": {
        "deletable": false,
        "editable": false,
        "id": "309ae4d7"
      },
      "source": [
        "## Dataset\n",
        "\n",
        "The following exercise is based on a study by [Dupont and Page (1985)](https://doi.org/10.1056/NEJM198501173120303). A cohort of 3303 Nashville women underwent benign breast biopsies between 1950 and 1968. The study obtained follow-up information from these women or their next of kin. The variables in this file are\n",
        "\n",
        "| Column | Description |\n",
        "| ------ | :---------- |\n",
        "| id | patient identification number |\n",
        "| entage | age at entry biopsy |\n",
        "| follow | years of follow-up |\n",
        "| pd | diagnosis of entry biopsy.<br/>`0`: no proliferative disease (NoPD);<br/>`1`: proliferative disease without atypia (PDWA);<br/>`2`: atypical hyperplasia (AH) |\n",
        "| fate | fate at end of follow-up.<br/>`0`: censored;<br/>`1`: invasive breast cancer |\n",
        "| fh | first degree family history of breast cancer.<br/> `0`: no;<br/>`1`: yes |\n"
      ]
    },
    {
      "cell_type": "code",
      "execution_count": 33,
      "id": "d7445e16",
      "metadata": {
        "colab": {
          "base_uri": "https://localhost:8080/",
          "height": 237
        },
        "id": "d7445e16",
        "outputId": "ba316b30-a7e2-49f5-ce90-ec2a12e006e6"
      },
      "outputs": [
        {
          "output_type": "execute_result",
          "data": {
            "text/plain": [
              "    entage     follow  pd  fate  fh\n",
              "id                                 \n",
              "1       30  14.863791   0     0   0\n",
              "2       45  24.169746   0     0   0\n",
              "3       35  23.323751   0     0   0\n",
              "4       47  17.475702   0     0   0\n",
              "5       30  28.438057   1     0   0"
            ],
            "text/html": [
              "\n",
              "  <div id=\"df-5a6344a8-0995-403a-9e6d-69646367e4ab\">\n",
              "    <div class=\"colab-df-container\">\n",
              "      <div>\n",
              "<style scoped>\n",
              "    .dataframe tbody tr th:only-of-type {\n",
              "        vertical-align: middle;\n",
              "    }\n",
              "\n",
              "    .dataframe tbody tr th {\n",
              "        vertical-align: top;\n",
              "    }\n",
              "\n",
              "    .dataframe thead th {\n",
              "        text-align: right;\n",
              "    }\n",
              "</style>\n",
              "<table border=\"1\" class=\"dataframe\">\n",
              "  <thead>\n",
              "    <tr style=\"text-align: right;\">\n",
              "      <th></th>\n",
              "      <th>entage</th>\n",
              "      <th>follow</th>\n",
              "      <th>pd</th>\n",
              "      <th>fate</th>\n",
              "      <th>fh</th>\n",
              "    </tr>\n",
              "    <tr>\n",
              "      <th>id</th>\n",
              "      <th></th>\n",
              "      <th></th>\n",
              "      <th></th>\n",
              "      <th></th>\n",
              "      <th></th>\n",
              "    </tr>\n",
              "  </thead>\n",
              "  <tbody>\n",
              "    <tr>\n",
              "      <th>1</th>\n",
              "      <td>30</td>\n",
              "      <td>14.863791</td>\n",
              "      <td>0</td>\n",
              "      <td>0</td>\n",
              "      <td>0</td>\n",
              "    </tr>\n",
              "    <tr>\n",
              "      <th>2</th>\n",
              "      <td>45</td>\n",
              "      <td>24.169746</td>\n",
              "      <td>0</td>\n",
              "      <td>0</td>\n",
              "      <td>0</td>\n",
              "    </tr>\n",
              "    <tr>\n",
              "      <th>3</th>\n",
              "      <td>35</td>\n",
              "      <td>23.323751</td>\n",
              "      <td>0</td>\n",
              "      <td>0</td>\n",
              "      <td>0</td>\n",
              "    </tr>\n",
              "    <tr>\n",
              "      <th>4</th>\n",
              "      <td>47</td>\n",
              "      <td>17.475702</td>\n",
              "      <td>0</td>\n",
              "      <td>0</td>\n",
              "      <td>0</td>\n",
              "    </tr>\n",
              "    <tr>\n",
              "      <th>5</th>\n",
              "      <td>30</td>\n",
              "      <td>28.438057</td>\n",
              "      <td>1</td>\n",
              "      <td>0</td>\n",
              "      <td>0</td>\n",
              "    </tr>\n",
              "  </tbody>\n",
              "</table>\n",
              "</div>\n",
              "      <button class=\"colab-df-convert\" onclick=\"convertToInteractive('df-5a6344a8-0995-403a-9e6d-69646367e4ab')\"\n",
              "              title=\"Convert this dataframe to an interactive table.\"\n",
              "              style=\"display:none;\">\n",
              "        \n",
              "  <svg xmlns=\"http://www.w3.org/2000/svg\" height=\"24px\"viewBox=\"0 0 24 24\"\n",
              "       width=\"24px\">\n",
              "    <path d=\"M0 0h24v24H0V0z\" fill=\"none\"/>\n",
              "    <path d=\"M18.56 5.44l.94 2.06.94-2.06 2.06-.94-2.06-.94-.94-2.06-.94 2.06-2.06.94zm-11 1L8.5 8.5l.94-2.06 2.06-.94-2.06-.94L8.5 2.5l-.94 2.06-2.06.94zm10 10l.94 2.06.94-2.06 2.06-.94-2.06-.94-.94-2.06-.94 2.06-2.06.94z\"/><path d=\"M17.41 7.96l-1.37-1.37c-.4-.4-.92-.59-1.43-.59-.52 0-1.04.2-1.43.59L10.3 9.45l-7.72 7.72c-.78.78-.78 2.05 0 2.83L4 21.41c.39.39.9.59 1.41.59.51 0 1.02-.2 1.41-.59l7.78-7.78 2.81-2.81c.8-.78.8-2.07 0-2.86zM5.41 20L4 18.59l7.72-7.72 1.47 1.35L5.41 20z\"/>\n",
              "  </svg>\n",
              "      </button>\n",
              "      \n",
              "  <style>\n",
              "    .colab-df-container {\n",
              "      display:flex;\n",
              "      flex-wrap:wrap;\n",
              "      gap: 12px;\n",
              "    }\n",
              "\n",
              "    .colab-df-convert {\n",
              "      background-color: #E8F0FE;\n",
              "      border: none;\n",
              "      border-radius: 50%;\n",
              "      cursor: pointer;\n",
              "      display: none;\n",
              "      fill: #1967D2;\n",
              "      height: 32px;\n",
              "      padding: 0 0 0 0;\n",
              "      width: 32px;\n",
              "    }\n",
              "\n",
              "    .colab-df-convert:hover {\n",
              "      background-color: #E2EBFA;\n",
              "      box-shadow: 0px 1px 2px rgba(60, 64, 67, 0.3), 0px 1px 3px 1px rgba(60, 64, 67, 0.15);\n",
              "      fill: #174EA6;\n",
              "    }\n",
              "\n",
              "    [theme=dark] .colab-df-convert {\n",
              "      background-color: #3B4455;\n",
              "      fill: #D2E3FC;\n",
              "    }\n",
              "\n",
              "    [theme=dark] .colab-df-convert:hover {\n",
              "      background-color: #434B5C;\n",
              "      box-shadow: 0px 1px 3px 1px rgba(0, 0, 0, 0.15);\n",
              "      filter: drop-shadow(0px 1px 2px rgba(0, 0, 0, 0.3));\n",
              "      fill: #FFFFFF;\n",
              "    }\n",
              "  </style>\n",
              "\n",
              "      <script>\n",
              "        const buttonEl =\n",
              "          document.querySelector('#df-5a6344a8-0995-403a-9e6d-69646367e4ab button.colab-df-convert');\n",
              "        buttonEl.style.display =\n",
              "          google.colab.kernel.accessAllowed ? 'block' : 'none';\n",
              "\n",
              "        async function convertToInteractive(key) {\n",
              "          const element = document.querySelector('#df-5a6344a8-0995-403a-9e6d-69646367e4ab');\n",
              "          const dataTable =\n",
              "            await google.colab.kernel.invokeFunction('convertToInteractive',\n",
              "                                                     [key], {});\n",
              "          if (!dataTable) return;\n",
              "\n",
              "          const docLinkHtml = 'Like what you see? Visit the ' +\n",
              "            '<a target=\"_blank\" href=https://colab.research.google.com/notebooks/data_table.ipynb>data table notebook</a>'\n",
              "            + ' to learn more about interactive tables.';\n",
              "          element.innerHTML = '';\n",
              "          dataTable['output_type'] = 'display_data';\n",
              "          await google.colab.output.renderOutput(dataTable, element);\n",
              "          const docLink = document.createElement('div');\n",
              "          docLink.innerHTML = docLinkHtml;\n",
              "          element.appendChild(docLink);\n",
              "        }\n",
              "      </script>\n",
              "    </div>\n",
              "  </div>\n",
              "  "
            ]
          },
          "metadata": {},
          "execution_count": 33
        }
      ],
      "source": [
        "breast_data = pd.read_csv(\n",
        "    \"https://gist.githubusercontent.com/sebp/60b8457760316f4213ee920eb8a75dc4/raw/dc060bf20d37bf71fd865aeff528aaa99dbcbd90/6.ex.Breast.csv\",\n",
        "    index_col=\"id\"\n",
        ")\n",
        "\n",
        "breast_data.head()"
      ]
    },
    {
      "cell_type": "code",
      "source": [
        "breast_data.hist()"
      ],
      "metadata": {
        "colab": {
          "base_uri": "https://localhost:8080/",
          "height": 402
        },
        "id": "zjPcow2nzNYk",
        "outputId": "c6ac7d6f-c5b1-400b-aa25-ec9e249714b3"
      },
      "id": "zjPcow2nzNYk",
      "execution_count": 34,
      "outputs": [
        {
          "output_type": "execute_result",
          "data": {
            "text/plain": [
              "array([[<matplotlib.axes._subplots.AxesSubplot object at 0x7f28609d1a50>,\n",
              "        <matplotlib.axes._subplots.AxesSubplot object at 0x7f2860919510>],\n",
              "       [<matplotlib.axes._subplots.AxesSubplot object at 0x7f286088f950>,\n",
              "        <matplotlib.axes._subplots.AxesSubplot object at 0x7f2860845e50>],\n",
              "       [<matplotlib.axes._subplots.AxesSubplot object at 0x7f2860807390>,\n",
              "        <matplotlib.axes._subplots.AxesSubplot object at 0x7f28607bc890>]],\n",
              "      dtype=object)"
            ]
          },
          "metadata": {},
          "execution_count": 34
        },
        {
          "output_type": "display_data",
          "data": {
            "text/plain": [
              "<Figure size 432x288 with 6 Axes>"
            ],
            "image/png": "[encoded data removed]"
          },
          "metadata": {
            "needs_background": "light"
          }
        }
      ]
    },
    {
      "cell_type": "markdown",
      "id": "67f37327",
      "metadata": {
        "deletable": false,
        "editable": false,
        "id": "67f37327"
      },
      "source": [
        "### Kaplan-Meier estimate\n",
        "\n",
        "Plot Kaplan–Meier breast cancer free survival curves for women with entry diagnoses of AH, PDWA, and No PD as a function of years since biopsy. Use time since entry biopsy as the time variable. What does the graphic tell? Is this a useful graphic? If not, why not? \n",
        "\n",
        "*HINT*: Consider the age distribution of entry biopsy for these three diagnoses.\n",
        "\n",
        "The Kaplan-Meier curve can be estimated via [kaplan_meier_estimator](https://scikit-survival.readthedocs.io/en/stable/api/generated/sksurv.nonparametric.kaplan_meier_estimator.html), to plot it use\n",
        "```python\n",
        "plt.step(time, probability_survival, where=\"post\", label=name_of_group)\n",
        "\n",
        "```\n",
        "Execute `help(kaplan_meier_estimator)` to understand how to use `kaplan_meier_estimator`."
      ]
    },
    {
      "cell_type": "code",
      "execution_count": 35,
      "id": "b7021b48",
      "metadata": {
        "id": "b7021b48"
      },
      "outputs": [],
      "source": [
        "from sksurv.nonparametric import kaplan_meier_estimator"
      ]
    },
    {
      "cell_type": "code",
      "source": [
        "fig, ax = plt.subplots()\n",
        "\n",
        "for group_name, group_data in breast_data.groupby(\"pd\"):\n",
        "    time, prob_survival = kaplan_meier_estimator(\n",
        "        group_data.fate == 1, group_data.follow\n",
        "    )\n",
        "    ax.step(time, prob_survival, where=\"post\", label=f\"{group_name}\")\n",
        "\n",
        "ax.legend(loc=\"best\")\n",
        "ax.set_title(\"Kaplan-Meier Estimate\")"
      ],
      "metadata": {
        "colab": {
          "base_uri": "https://localhost:8080/",
          "height": 298
        },
        "id": "7MvQ95UWtcX5",
        "outputId": "c65c7b01-a8e2-48b6-e609-2aa5347da372"
      },
      "id": "7MvQ95UWtcX5",
      "execution_count": 36,
      "outputs": [
        {
          "output_type": "execute_result",
          "data": {
            "text/plain": [
              "Text(0.5, 1.0, 'Kaplan-Meier Estimate')"
            ]
          },
          "metadata": {},
          "execution_count": 36
        },
        {
          "output_type": "display_data",
          "data": {
            "text/plain": [
              "<Figure size 432x288 with 1 Axes>"
            ],
            "image/png": "[encoded data removed]"
          },
          "metadata": {
            "needs_background": "light"
          }
        }
      ]
    },
    {
      "cell_type": "markdown",
      "source": [
        "The age distribution differs among age groups too, therefore it is unclear whether the difference in survival is truly due to the tumor type (`pd`) or age."
      ],
      "metadata": {
        "id": "iPB_G88Qtra7"
      },
      "id": "iPB_G88Qtra7"
    },
    {
      "cell_type": "code",
      "source": [
        "breast_data.groupby(\"pd\")[\"entage\"].mean().to_frame()"
      ],
      "metadata": {
        "colab": {
          "base_uri": "https://localhost:8080/",
          "height": 175
        },
        "id": "xlZKKojdtmFD",
        "outputId": "45111dfd-d817-4fe4-8409-921cee167f07"
      },
      "id": "xlZKKojdtmFD",
      "execution_count": 37,
      "outputs": [
        {
          "output_type": "execute_result",
          "data": {
            "text/plain": [
              "       entage\n",
              "pd           \n",
              "0   40.208999\n",
              "1   42.891908\n",
              "2   45.827586"
            ],
            "text/html": [
              "\n",
              "  <div id=\"df-252aae70-3b08-44d3-a994-68578e55640d\">\n",
              "    <div class=\"colab-df-container\">\n",
              "      <div>\n",
              "<style scoped>\n",
              "    .dataframe tbody tr th:only-of-type {\n",
              "        vertical-align: middle;\n",
              "    }\n",
              "\n",
              "    .dataframe tbody tr th {\n",
              "        vertical-align: top;\n",
              "    }\n",
              "\n",
              "    .dataframe thead th {\n",
              "        text-align: right;\n",
              "    }\n",
              "</style>\n",
              "<table border=\"1\" class=\"dataframe\">\n",
              "  <thead>\n",
              "    <tr style=\"text-align: right;\">\n",
              "      <th></th>\n",
              "      <th>entage</th>\n",
              "    </tr>\n",
              "    <tr>\n",
              "      <th>pd</th>\n",
              "      <th></th>\n",
              "    </tr>\n",
              "  </thead>\n",
              "  <tbody>\n",
              "    <tr>\n",
              "      <th>0</th>\n",
              "      <td>40.208999</td>\n",
              "    </tr>\n",
              "    <tr>\n",
              "      <th>1</th>\n",
              "      <td>42.891908</td>\n",
              "    </tr>\n",
              "    <tr>\n",
              "      <th>2</th>\n",
              "      <td>45.827586</td>\n",
              "    </tr>\n",
              "  </tbody>\n",
              "</table>\n",
              "</div>\n",
              "      <button class=\"colab-df-convert\" onclick=\"convertToInteractive('df-252aae70-3b08-44d3-a994-68578e55640d')\"\n",
              "              title=\"Convert this dataframe to an interactive table.\"\n",
              "              style=\"display:none;\">\n",
              "        \n",
              "  <svg xmlns=\"http://www.w3.org/2000/svg\" height=\"24px\"viewBox=\"0 0 24 24\"\n",
              "       width=\"24px\">\n",
              "    <path d=\"M0 0h24v24H0V0z\" fill=\"none\"/>\n",
              "    <path d=\"M18.56 5.44l.94 2.06.94-2.06 2.06-.94-2.06-.94-.94-2.06-.94 2.06-2.06.94zm-11 1L8.5 8.5l.94-2.06 2.06-.94-2.06-.94L8.5 2.5l-.94 2.06-2.06.94zm10 10l.94 2.06.94-2.06 2.06-.94-2.06-.94-.94-2.06-.94 2.06-2.06.94z\"/><path d=\"M17.41 7.96l-1.37-1.37c-.4-.4-.92-.59-1.43-.59-.52 0-1.04.2-1.43.59L10.3 9.45l-7.72 7.72c-.78.78-.78 2.05 0 2.83L4 21.41c.39.39.9.59 1.41.59.51 0 1.02-.2 1.41-.59l7.78-7.78 2.81-2.81c.8-.78.8-2.07 0-2.86zM5.41 20L4 18.59l7.72-7.72 1.47 1.35L5.41 20z\"/>\n",
              "  </svg>\n",
              "      </button>\n",
              "      \n",
              "  <style>\n",
              "    .colab-df-container {\n",
              "      display:flex;\n",
              "      flex-wrap:wrap;\n",
              "      gap: 12px;\n",
              "    }\n",
              "\n",
              "    .colab-df-convert {\n",
              "      background-color: #E8F0FE;\n",
              "      border: none;\n",
              "      border-radius: 50%;\n",
              "      cursor: pointer;\n",
              "      display: none;\n",
              "      fill: #1967D2;\n",
              "      height: 32px;\n",
              "      padding: 0 0 0 0;\n",
              "      width: 32px;\n",
              "    }\n",
              "\n",
              "    .colab-df-convert:hover {\n",
              "      background-color: #E2EBFA;\n",
              "      box-shadow: 0px 1px 2px rgba(60, 64, 67, 0.3), 0px 1px 3px 1px rgba(60, 64, 67, 0.15);\n",
              "      fill: #174EA6;\n",
              "    }\n",
              "\n",
              "    [theme=dark] .colab-df-convert {\n",
              "      background-color: #3B4455;\n",
              "      fill: #D2E3FC;\n",
              "    }\n",
              "\n",
              "    [theme=dark] .colab-df-convert:hover {\n",
              "      background-color: #434B5C;\n",
              "      box-shadow: 0px 1px 3px 1px rgba(0, 0, 0, 0.15);\n",
              "      filter: drop-shadow(0px 1px 2px rgba(0, 0, 0, 0.3));\n",
              "      fill: #FFFFFF;\n",
              "    }\n",
              "  </style>\n",
              "\n",
              "      <script>\n",
              "        const buttonEl =\n",
              "          document.querySelector('#df-252aae70-3b08-44d3-a994-68578e55640d button.colab-df-convert');\n",
              "        buttonEl.style.display =\n",
              "          google.colab.kernel.accessAllowed ? 'block' : 'none';\n",
              "\n",
              "        async function convertToInteractive(key) {\n",
              "          const element = document.querySelector('#df-252aae70-3b08-44d3-a994-68578e55640d');\n",
              "          const dataTable =\n",
              "            await google.colab.kernel.invokeFunction('convertToInteractive',\n",
              "                                                     [key], {});\n",
              "          if (!dataTable) return;\n",
              "\n",
              "          const docLinkHtml = 'Like what you see? Visit the ' +\n",
              "            '<a target=\"_blank\" href=https://colab.research.google.com/notebooks/data_table.ipynb>data table notebook</a>'\n",
              "            + ' to learn more about interactive tables.';\n",
              "          element.innerHTML = '';\n",
              "          dataTable['output_type'] = 'display_data';\n",
              "          await google.colab.output.renderOutput(dataTable, element);\n",
              "          const docLink = document.createElement('div');\n",
              "          docLink.innerHTML = docLinkHtml;\n",
              "          element.appendChild(docLink);\n",
              "        }\n",
              "      </script>\n",
              "    </div>\n",
              "  </div>\n",
              "  "
            ]
          },
          "metadata": {},
          "execution_count": 37
        }
      ]
    },
    {
      "cell_type": "markdown",
      "source": [
        "## Estimator of the survival function of the exponential distribution"
      ],
      "metadata": {
        "id": "jAp4yFLcuDtB"
      },
      "id": "jAp4yFLcuDtB"
    },
    {
      "cell_type": "markdown",
      "source": [
        "### Find optimal lambda estimate \n",
        "\\begin{equation} \\boxed{\\hat\\lambda=\\frac{\\sum_{i=1}^{n}{\\delta}_{i}}{\\sum_{i=1}^{n}y_i}}\\end{equation}\n",
        "\n",
        "Survival function:\n",
        "\\begin{equation}\\boxed{ S_{\\lambda}(y_i) = exp({-}{\\frac{\\sum_{i=1}^{n}{\\delta}_{i}}{\\sum_{i=1}^{n}y_i}} y_i)}\\end{equation}"
      ],
      "metadata": {
        "id": "7mE8bcVZuRPv"
      },
      "id": "7mE8bcVZuRPv"
    },
    {
      "cell_type": "code",
      "source": [
        "lambda_val = np.zeros(3)\n",
        "\n",
        "i = 0\n",
        "for group_name, group_data in breast_data.groupby(\"pd\"):\n",
        "  lambda_val[i] = np.sum(group_data.fate == 1)/np.sum(group_data.follow)\n",
        "  i += 1\n",
        "print(lambda_val)"
      ],
      "metadata": {
        "colab": {
          "base_uri": "https://localhost:8080/"
        },
        "id": "ZUI4vBsqxgnr",
        "outputId": "aa9436b6-62b0-4bb7-8809-3f1924796619"
      },
      "id": "ZUI4vBsqxgnr",
      "execution_count": 38,
      "outputs": [
        {
          "output_type": "stream",
          "name": "stdout",
          "text": [
            "[0.0013098  0.00262674 0.00785049]\n"
          ]
        }
      ]
    },
    {
      "cell_type": "code",
      "source": [
        "fig, ax = plt.subplots()\n",
        "\n",
        "i = 0\n",
        "for group_name, group_data in breast_data.groupby(\"pd\"):\n",
        "  time, prob_survival = kaplan_meier_estimator(\n",
        "        group_data.fate == 1, group_data.follow\n",
        "    )\n",
        "  ax.step(time, prob_survival, where=\"post\", label=f\"KM: {group_name}\")\n",
        "  prob_exp = np.exp(-lambda_val[i]* time)\n",
        "  ax.plot(time, prob_exp, label=f\"Exponential: {group_name}\")\n",
        "  i += 1\n",
        "\n",
        "ax.legend(loc=\"best\")\n",
        "ax.set_ylabel(\"Survival probability\")\n",
        "ax.set_xlabel(\"time\")\n",
        "\n",
        "#ax.set_title(\"Exponential Distribution and Kaplan Meier\")"
      ],
      "metadata": {
        "colab": {
          "base_uri": "https://localhost:8080/",
          "height": 296
        },
        "id": "aoULMj9JAdbj",
        "outputId": "73080f11-0220-4bcf-fe3a-cb7344718aa6"
      },
      "id": "aoULMj9JAdbj",
      "execution_count": 39,
      "outputs": [
        {
          "output_type": "execute_result",
          "data": {
            "text/plain": [
              "Text(0.5, 0, 'time')"
            ]
          },
          "metadata": {},
          "execution_count": 39
        },
        {
          "output_type": "display_data",
          "data": {
            "text/plain": [
              "<Figure size 432x288 with 1 Axes>"
            ],
            "image/png": "[encoded data removed]"
          },
          "metadata": {
            "needs_background": "light"
          }
        }
      ]
    },
    {
      "cell_type": "code",
      "source": [
        "fig, ax = plt.subplots()\n",
        "\n",
        "i = 0\n",
        "for group_name, group_data in breast_data.groupby(\"pd\"):\n",
        "  time  = np.sort(group_data.follow)\n",
        "  prob = np.exp(-lambda_val[i]* time)\n",
        "  ax.plot(time, prob, label=f\"{group_name}\")\n",
        "  i += 1\n",
        "\n",
        "ax.legend(loc=\"best\")\n",
        "ax.set_title(\"Exponential Distribution\")"
      ],
      "metadata": {
        "colab": {
          "base_uri": "https://localhost:8080/",
          "height": 298
        },
        "id": "IHMSjZOACu2A",
        "outputId": "c4024ed6-233a-4269-e07b-36eba62022c2"
      },
      "id": "IHMSjZOACu2A",
      "execution_count": 29,
      "outputs": [
        {
          "output_type": "execute_result",
          "data": {
            "text/plain": [
              "Text(0.5, 1.0, 'Exponential Distribution')"
            ]
          },
          "metadata": {},
          "execution_count": 29
        },
        {
          "output_type": "display_data",
          "data": {
            "text/plain": [
              "<Figure size 432x288 with 1 Axes>"
            ],
            "image/png": "[encoded data removed]"
          },
          "metadata": {
            "needs_background": "light"
          }
        }
      ]
    },
    {
      "cell_type": "code",
      "source": [
        "breast_data.groupby(\"pd\")[\"entage\"].mean().to_frame()"
      ],
      "metadata": {
        "colab": {
          "base_uri": "https://localhost:8080/",
          "height": 175
        },
        "id": "gVJ2vUXVoAYY",
        "outputId": "98f6e077-42cf-4bd3-8edb-b6162baf23d8"
      },
      "id": "gVJ2vUXVoAYY",
      "execution_count": 40,
      "outputs": [
        {
          "output_type": "execute_result",
          "data": {
            "text/plain": [
              "       entage\n",
              "pd           \n",
              "0   40.208999\n",
              "1   42.891908\n",
              "2   45.827586"
            ],
            "text/html": [
              "\n",
              "  <div id=\"df-563e4f6d-6f66-487d-9d51-6559ff58c1a4\">\n",
              "    <div class=\"colab-df-container\">\n",
              "      <div>\n",
              "<style scoped>\n",
              "    .dataframe tbody tr th:only-of-type {\n",
              "        vertical-align: middle;\n",
              "    }\n",
              "\n",
              "    .dataframe tbody tr th {\n",
              "        vertical-align: top;\n",
              "    }\n",
              "\n",
              "    .dataframe thead th {\n",
              "        text-align: right;\n",
              "    }\n",
              "</style>\n",
              "<table border=\"1\" class=\"dataframe\">\n",
              "  <thead>\n",
              "    <tr style=\"text-align: right;\">\n",
              "      <th></th>\n",
              "      <th>entage</th>\n",
              "    </tr>\n",
              "    <tr>\n",
              "      <th>pd</th>\n",
              "      <th></th>\n",
              "    </tr>\n",
              "  </thead>\n",
              "  <tbody>\n",
              "    <tr>\n",
              "      <th>0</th>\n",
              "      <td>40.208999</td>\n",
              "    </tr>\n",
              "    <tr>\n",
              "      <th>1</th>\n",
              "      <td>42.891908</td>\n",
              "    </tr>\n",
              "    <tr>\n",
              "      <th>2</th>\n",
              "      <td>45.827586</td>\n",
              "    </tr>\n",
              "  </tbody>\n",
              "</table>\n",
              "</div>\n",
              "      <button class=\"colab-df-convert\" onclick=\"convertToInteractive('df-563e4f6d-6f66-487d-9d51-6559ff58c1a4')\"\n",
              "              title=\"Convert this dataframe to an interactive table.\"\n",
              "              style=\"display:none;\">\n",
              "        \n",
              "  <svg xmlns=\"http://www.w3.org/2000/svg\" height=\"24px\"viewBox=\"0 0 24 24\"\n",
              "       width=\"24px\">\n",
              "    <path d=\"M0 0h24v24H0V0z\" fill=\"none\"/>\n",
              "    <path d=\"M18.56 5.44l.94 2.06.94-2.06 2.06-.94-2.06-.94-.94-2.06-.94 2.06-2.06.94zm-11 1L8.5 8.5l.94-2.06 2.06-.94-2.06-.94L8.5 2.5l-.94 2.06-2.06.94zm10 10l.94 2.06.94-2.06 2.06-.94-2.06-.94-.94-2.06-.94 2.06-2.06.94z\"/><path d=\"M17.41 7.96l-1.37-1.37c-.4-.4-.92-.59-1.43-.59-.52 0-1.04.2-1.43.59L10.3 9.45l-7.72 7.72c-.78.78-.78 2.05 0 2.83L4 21.41c.39.39.9.59 1.41.59.51 0 1.02-.2 1.41-.59l7.78-7.78 2.81-2.81c.8-.78.8-2.07 0-2.86zM5.41 20L4 18.59l7.72-7.72 1.47 1.35L5.41 20z\"/>\n",
              "  </svg>\n",
              "      </button>\n",
              "      \n",
              "  <style>\n",
              "    .colab-df-container {\n",
              "      display:flex;\n",
              "      flex-wrap:wrap;\n",
              "      gap: 12px;\n",
              "    }\n",
              "\n",
              "    .colab-df-convert {\n",
              "      background-color: #E8F0FE;\n",
              "      border: none;\n",
              "      border-radius: 50%;\n",
              "      cursor: pointer;\n",
              "      display: none;\n",
              "      fill: #1967D2;\n",
              "      height: 32px;\n",
              "      padding: 0 0 0 0;\n",
              "      width: 32px;\n",
              "    }\n",
              "\n",
              "    .colab-df-convert:hover {\n",
              "      background-color: #E2EBFA;\n",
              "      box-shadow: 0px 1px 2px rgba(60, 64, 67, 0.3), 0px 1px 3px 1px rgba(60, 64, 67, 0.15);\n",
              "      fill: #174EA6;\n",
              "    }\n",
              "\n",
              "    [theme=dark] .colab-df-convert {\n",
              "      background-color: #3B4455;\n",
              "      fill: #D2E3FC;\n",
              "    }\n",
              "\n",
              "    [theme=dark] .colab-df-convert:hover {\n",
              "      background-color: #434B5C;\n",
              "      box-shadow: 0px 1px 3px 1px rgba(0, 0, 0, 0.15);\n",
              "      filter: drop-shadow(0px 1px 2px rgba(0, 0, 0, 0.3));\n",
              "      fill: #FFFFFF;\n",
              "    }\n",
              "  </style>\n",
              "\n",
              "      <script>\n",
              "        const buttonEl =\n",
              "          document.querySelector('#df-563e4f6d-6f66-487d-9d51-6559ff58c1a4 button.colab-df-convert');\n",
              "        buttonEl.style.display =\n",
              "          google.colab.kernel.accessAllowed ? 'block' : 'none';\n",
              "\n",
              "        async function convertToInteractive(key) {\n",
              "          const element = document.querySelector('#df-563e4f6d-6f66-487d-9d51-6559ff58c1a4');\n",
              "          const dataTable =\n",
              "            await google.colab.kernel.invokeFunction('convertToInteractive',\n",
              "                                                     [key], {});\n",
              "          if (!dataTable) return;\n",
              "\n",
              "          const docLinkHtml = 'Like what you see? Visit the ' +\n",
              "            '<a target=\"_blank\" href=https://colab.research.google.com/notebooks/data_table.ipynb>data table notebook</a>'\n",
              "            + ' to learn more about interactive tables.';\n",
              "          element.innerHTML = '';\n",
              "          dataTable['output_type'] = 'display_data';\n",
              "          await google.colab.output.renderOutput(dataTable, element);\n",
              "          const docLink = document.createElement('div');\n",
              "          docLink.innerHTML = docLinkHtml;\n",
              "          element.appendChild(docLink);\n",
              "        }\n",
              "      </script>\n",
              "    </div>\n",
              "  </div>\n",
              "  "
            ]
          },
          "metadata": {},
          "execution_count": 40
        }
      ]
    },
    {
      "cell_type": "code",
      "source": [
        "breast_data['entage'].hist(by=breast_data['pd'])\n"
      ],
      "metadata": {
        "colab": {
          "base_uri": "https://localhost:8080/",
          "height": 370
        },
        "id": "OQDom58D4Pvb",
        "outputId": "777df3c3-1ebc-46db-825c-e9eea00448fa"
      },
      "id": "OQDom58D4Pvb",
      "execution_count": 42,
      "outputs": [
        {
          "output_type": "execute_result",
          "data": {
            "text/plain": [
              "array([[<matplotlib.axes._subplots.AxesSubplot object at 0x7f28604efbd0>,\n",
              "        <matplotlib.axes._subplots.AxesSubplot object at 0x7f2860504cd0>],\n",
              "       [<matplotlib.axes._subplots.AxesSubplot object at 0x7f28604c8310>,\n",
              "        <matplotlib.axes._subplots.AxesSubplot object at 0x7f286047f910>]],\n",
              "      dtype=object)"
            ]
          },
          "metadata": {},
          "execution_count": 42
        },
        {
          "output_type": "display_data",
          "data": {
            "text/plain": [
              "<Figure size 432x288 with 4 Axes>"
            ],
            "image/png": "[encoded data removed]"
          },
          "metadata": {
            "needs_background": "light"
          }
        }
      ]
    },
    {
      "cell_type": "code",
      "source": [
        ""
      ],
      "metadata": {
        "id": "dEUYJ_Ic9kNK"
      },
      "id": "dEUYJ_Ic9kNK",
      "execution_count": null,
      "outputs": []
    }
  ],
  "metadata": {
    "kernelspec": {
      "display_name": "Python 3 (ipykernel)",
      "language": "python",
      "name": "python3"
    },
    "language_info": {
      "codemirror_mode": {
        "name": "ipython",
        "version": 3
      },
      "file_extension": ".py",
      "mimetype": "text/x-python",
      "name": "python",
      "nbconvert_exporter": "python",
      "pygments_lexer": "ipython3",
      "version": "3.7.13"
    },
    "colab": {
      "name": "aim_graded_exercise1.ipynb",
      "provenance": [],
      "collapsed_sections": [],
      "include_colab_link": true
    }
  },
  "nbformat": 4,
  "nbformat_minor": 5
}